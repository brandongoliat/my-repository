{
 "cells": [
  {
   "cell_type": "code",
   "execution_count": 2,
   "id": "354d96c5",
   "metadata": {},
   "outputs": [
    {
     "name": "stdout",
     "output_type": "stream",
     "text": [
      "Hello! What is your name?\n",
      "Brandon Goliat\n",
      "Well, Brandon Goliat, I am thinking of  a number between 1 and 20.\n",
      "Take a guess.\n",
      "5\n",
      "Your guess is too low!\n",
      "Take a guess.\n",
      "10\n",
      "Your guess is too high!\n",
      "Take a guess.\n",
      "7\n",
      "Your guess is too low!\n",
      "Take a guess.\n",
      "8\n",
      "Good job, Brandon Goliat! You guessed my number in 4 guesses.\n"
     ]
    }
   ],
   "source": [
    "# This is a guess the number game.\n",
    "import random\n",
    "\n",
    "print('Hello! What is your name?')\n",
    "name = input()\n",
    "\n",
    "print('Well, ' + name + ', I am thinking of  a number between 1 and 20.')\n",
    "secretNumber = random.randint(1, 20)\n",
    "\n",
    "for guessesTaken in range(1, 7):\n",
    "    print('Take a guess.')\n",
    "    guess = int(input())\n",
    "    \n",
    "    if guess  < secretNumber:\n",
    "        print('Your guess is too low!')\n",
    "    elif guess > secretNumber:\n",
    "        print('Your guess is too high!')\n",
    "    else:\n",
    "        break # This condition is for the correct guess!\n",
    "        \n",
    "if guess == secretNumber:\n",
    "    print('Good job, ' + name + '! You guessed my number in ' + str(guessesTaken) + ' guesses.')\n",
    "else:\n",
    "    print('Nope. The number I was thinking of was ' + str(secretNumber))"
   ]
  }
 ],
 "metadata": {
  "kernelspec": {
   "display_name": "Python 3 (ipykernel)",
   "language": "python",
   "name": "python3"
  },
  "language_info": {
   "codemirror_mode": {
    "name": "ipython",
    "version": 3
   },
   "file_extension": ".py",
   "mimetype": "text/x-python",
   "name": "python",
   "nbconvert_exporter": "python",
   "pygments_lexer": "ipython3",
   "version": "3.9.7"
  }
 },
 "nbformat": 4,
 "nbformat_minor": 5
}
